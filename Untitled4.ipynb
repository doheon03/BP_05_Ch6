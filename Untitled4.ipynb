{
  "nbformat": 4,
  "nbformat_minor": 0,
  "metadata": {
    "colab": {
      "provenance": [],
      "authorship_tag": "ABX9TyMrVvim0Age+rTdLBhFbhO4",
      "include_colab_link": true
    },
    "kernelspec": {
      "name": "python3",
      "display_name": "Python 3"
    },
    "language_info": {
      "name": "python"
    }
  },
  "cells": [
    {
      "cell_type": "markdown",
      "metadata": {
        "id": "view-in-github",
        "colab_type": "text"
      },
      "source": [
        "<a href=\"https://colab.research.google.com/github/doheon03/BP_05_Ch6/blob/main/Untitled4.ipynb\" target=\"_parent\"><img src=\"https://colab.research.google.com/assets/colab-badge.svg\" alt=\"Open In Colab\"/></a>"
      ]
    },
    {
      "cell_type": "markdown",
      "source": [
        "1. 2부터 100사이의 모든 짝수를 출력하는 반복 루프를 작성한다."
      ],
      "metadata": {
        "id": "Lng2KK2pkSpe"
      }
    },
    {
      "cell_type": "code",
      "source": [],
      "metadata": {
        "id": "XSxbmUyDkUWV"
      },
      "execution_count": null,
      "outputs": []
    },
    {
      "cell_type": "markdown",
      "source": [
        "2. 어떤 사람이 복리이자율 7 % 로 1000만원을 저금 했을 경우에 2000만원이 되는데 몇년이 걸리는지 계산하기 위하여 다음과 같은 코드를 작성하였다. 잘못된 점은 없는지 체크해보자."
      ],
      "metadata": {
        "id": "bYANMICnlatr"
      }
    },
    {
      "cell_type": "code",
      "source": [],
      "metadata": {
        "id": "Y8_GThhul6iG"
      },
      "execution_count": null,
      "outputs": []
    },
    {
      "cell_type": "markdown",
      "source": [
        "3. 다음 코드의 출력을 예상해보자. 각 단계에서 변수값을 예상해보시오."
      ],
      "metadata": {
        "id": "9OtaTMfll6rC"
      }
    },
    {
      "cell_type": "code",
      "source": [],
      "metadata": {
        "id": "E7mvxzKqmEBc"
      },
      "execution_count": null,
      "outputs": []
    },
    {
      "cell_type": "markdown",
      "source": [
        "4. 사용자에게 곱셈 퀴즈를 내고 답을 사용자로부터 받는 "
      ],
      "metadata": {
        "id": "jMXDW5rYmEKj"
      }
    }
  ]
}