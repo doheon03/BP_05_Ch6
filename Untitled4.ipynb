{
  "nbformat": 4,
  "nbformat_minor": 0,
  "metadata": {
    "colab": {
      "provenance": [],
      "authorship_tag": "ABX9TyOsHtTj+PPZp3iw5o3JqBK7",
      "include_colab_link": true
    },
    "kernelspec": {
      "name": "python3",
      "display_name": "Python 3"
    },
    "language_info": {
      "name": "python"
    }
  },
  "cells": [
    {
      "cell_type": "markdown",
      "metadata": {
        "id": "view-in-github",
        "colab_type": "text"
      },
      "source": [
        "<a href=\"https://colab.research.google.com/github/doheon03/BP_05_Ch6/blob/main/Untitled4.ipynb\" target=\"_parent\"><img src=\"https://colab.research.google.com/assets/colab-badge.svg\" alt=\"Open In Colab\"/></a>"
      ]
    },
    {
      "cell_type": "markdown",
      "source": [
        "1. 2부터 100사이의 모든 짝수를 출력하는 반복 루프를 작성한다."
      ],
      "metadata": {
        "id": "Lng2KK2pkSpe"
      }
    },
    {
      "cell_type": "code",
      "source": [
        "for i in range(2, 101):\n",
        " if i%2==0 :\n",
        "  print(i,end = \" \")\n"
      ],
      "metadata": {
        "id": "XSxbmUyDkUWV",
        "outputId": "2e502419-abf7-442b-af67-d3a7d8ddb734",
        "colab": {
          "base_uri": "https://localhost:8080/"
        }
      },
      "execution_count": 1,
      "outputs": [
        {
          "output_type": "stream",
          "name": "stdout",
          "text": [
            "2 4 6 8 10 12 14 16 18 20 22 24 26 28 30 32 34 36 38 40 42 44 46 48 50 52 54 56 58 60 62 64 66 68 70 72 74 76 78 80 82 84 86 88 90 92 94 96 98 100 "
          ]
        }
      ]
    },
    {
      "cell_type": "markdown",
      "source": [
        "2. 어떤 사람이 복리이자율 7 % 로 1000만원을 저금 했을 경우에 2000만원이 되는데 몇년이 걸리는지 계산하기 위하여 다음과 같은 코드를 작성하였다. 잘못된 점은 없는지 체크해보자."
      ],
      "metadata": {
        "id": "bYANMICnlatr"
      }
    },
    {
      "cell_type": "code",
      "source": [
        "year = 0\n",
        "balance = 1000\n",
        "\n",
        "while balance <= 2000 :\n",
        " year = year + 1\n",
        " interest = balance * 0.07\n",
        " balance = balance + interest\n",
        "print(year, \"년이 걸립니다.\")\n",
        " \n",
        "\n"
      ],
      "metadata": {
        "id": "Y8_GThhul6iG",
        "outputId": "8908c395-df54-4963-f2a1-eee352d6ae70",
        "colab": {
          "base_uri": "https://localhost:8080/"
        }
      },
      "execution_count": 2,
      "outputs": [
        {
          "output_type": "stream",
          "name": "stdout",
          "text": [
            "11 년이 걸립니다.\n"
          ]
        }
      ]
    },
    {
      "cell_type": "markdown",
      "source": [
        "3. 다음 코드의 출력을 예상해보자. 각 단계에서 변수값을 예상해보시오."
      ],
      "metadata": {
        "id": "9OtaTMfll6rC"
      }
    },
    {
      "cell_type": "code",
      "source": [
        "n = 1234\n",
        "sum = 0\n",
        "while n > 0 :\n",
        "    digit = n % 10\n",
        "    sum = sum + digit\n",
        "    n = n // 10\n",
        "print(sum)\n",
        "\n",
        " \n",
        "\n"
      ],
      "metadata": {
        "id": "E7mvxzKqmEBc",
        "outputId": "d1470eee-bf8b-4898-d60a-b5765efb55e8",
        "colab": {
          "base_uri": "https://localhost:8080/"
        }
      },
      "execution_count": 13,
      "outputs": [
        {
          "output_type": "stream",
          "name": "stdout",
          "text": [
            "10\n"
          ]
        }
      ]
    },
    {
      "cell_type": "markdown",
      "source": [
        "4. 사용자에게 곱셈 퀴즈를 내고 답을 사용자로부터 받는 프로그램에서 사용자가 올바른 답을 입력할때까지 반복하도록  수정해보도록 하자."
      ],
      "metadata": {
        "id": "jMXDW5rYmEKj"
      }
    },
    {
      "cell_type": "code",
      "source": [
        "ans = 0\n",
        "while ans != 3*9:\n",
        " ans = int(input(\"3*9는\"))\n",
        "print(\"맞았습니다.\")\n",
        " \n",
        "\n"
      ],
      "metadata": {
        "id": "57Wm40otptYB",
        "outputId": "5d85632e-e11c-4dbd-ca18-7940b5a66919",
        "colab": {
          "base_uri": "https://localhost:8080/"
        }
      },
      "execution_count": 9,
      "outputs": [
        {
          "output_type": "stream",
          "name": "stdout",
          "text": [
            "3*9는8\n",
            "3*9는9\n",
            "3*9는27\n",
            "맞았습니다.\n"
          ]
        }
      ]
    },
    {
      "cell_type": "markdown",
      "source": [
        "5. 사용자가 입력한 정수의 합을 계산하는 프로그램을 작성하여 보자. 사용자가 ()을 입력하기 전까지 정수를 계속하여 읽도록 한다."
      ],
      "metadata": {
        "id": "Vsu_p2T6pt3A"
      }
    },
    {
      "cell_type": "code",
      "source": [
        "sum = 0\n",
        "while True:\n",
        " x = int(input(\"정수를 입력하시오: \"))\n",
        " if x == 0:\n",
        "  break;\n",
        " sum = sum + x\n",
        "\n",
        " print(\"합은 \", sum, \"입니다.\")\n",
        "\n"
      ],
      "metadata": {
        "id": "h_ODNpXCp9HJ",
        "outputId": "02b70613-8473-416b-b8b9-efd3a82d2d74",
        "colab": {
          "base_uri": "https://localhost:8080/"
        }
      },
      "execution_count": 11,
      "outputs": [
        {
          "name": "stdout",
          "output_type": "stream",
          "text": [
            "정수를 입력하시오: 1\n",
            "합은  1 입니다.\n",
            "정수를 입력하시오: 2\n",
            "합은  3 입니다.\n",
            "정수를 입력하시오: 3\n",
            "합은  6 입니다.\n",
            "정수를 입력하시오: 0\n"
          ]
        }
      ]
    },
    {
      "cell_type": "markdown",
      "source": [
        "6. 난수 생성 함수를 사용하여서 2개의 주사위를 던졌을 때 나오는 수를 다음과 같이 출력하여 보자."
      ],
      "metadata": {
        "id": "BeQlakJMp9k5"
      }
    },
    {
      "cell_type": "code",
      "source": [
        "from random import randint\n",
        "\n",
        "for i in range(3) :\n",
        " d1 = randint(1, 6)\n",
        " d2 = randint(1, 6)\n",
        " print(\"첫번째 주사위=\", d1, \"두번째 주사위=\", d2)\n",
        " \n",
        "\n",
        "\n"
      ],
      "metadata": {
        "id": "rQnhuLqmqIkB",
        "outputId": "47c8922b-eaa9-4a78-aef0-3cb4851343c7",
        "colab": {
          "base_uri": "https://localhost:8080/"
        }
      },
      "execution_count": 12,
      "outputs": [
        {
          "output_type": "stream",
          "name": "stdout",
          "text": [
            "첫번째 주사위= 4 두번째 주사위= 6\n",
            "첫번째 주사위= 2 두번째 주사위= 1\n",
            "첫번째 주사위= 5 두번째 주사위= 5\n"
          ]
        }
      ]
    },
    {
      "cell_type": "markdown",
      "source": [
        "7. 터틀 그래픽과 반복을 사용하여 눈모양을 그려보자."
      ],
      "metadata": {
        "id": "5-CuVXswqIz5"
      }
    },
    {
      "cell_type": "code",
      "source": [
        "import turtle\n",
        "\n",
        "t = turtle.Turtle()\n",
        "t.shape(\"turtle\")\n",
        "t.left(90)\n",
        "\n",
        "for i in range (1,7):\n",
        " t.forward(100)\n",
        " t.forward(-30)\n",
        " t.left(60)\n",
        " t.forward(30)\n",
        " t.forward(-30)\n",
        "\n",
        " t.right(120)\n",
        " t.forward(30)\n",
        " t.forward(-30)\n",
        "\n",
        " t.left(60)\n",
        " t.forward(-70)\n",
        " t.left(60)\n",
        " \n",
        "\n"
      ],
      "metadata": {
        "id": "NlSkh5vJqSQL"
      },
      "execution_count": null,
      "outputs": []
    },
    {
      "cell_type": "markdown",
      "source": [
        "8. 우리는 이번장에서 터틀 그래픽으로 별을 그려보았다. 이 코드를 응용하여서 다음과  같이 10개의 별을 그리는 프로그램을 작성하라. 별들의 시작 각도는 약간 다르다."
      ],
      "metadata": {
        "id": "tGm7eOWPqSYy"
      }
    },
    {
      "cell_type": "code",
      "source": [
        "import turtle\n",
        "\n",
        "myPen = turtle.Turtle()\n",
        "myPen.speed(0)\n",
        "myPen.color(\"#FF0000\")\n",
        "\n",
        "for j in range (1,10):\n",
        " for i in range (1,6):\n",
        "  myPen.left(144)\n",
        "  myPen.forward(200)\n",
        " myPen.left(10)\n"
      ],
      "metadata": {
        "id": "mKwjUt9FqjzD"
      },
      "execution_count": null,
      "outputs": []
    },
    {
      "cell_type": "markdown",
      "source": [
        "9.반복과 난수를 함께 사용하면 화면에 랜덤한 원을 그릴수 있다. 화면에 10개의 랜덤한 원을 그리는 프로그램을 작성하라. 원의 중심과 반지름이 모두 난수여야 한다."
      ],
      "metadata": {
        "id": "ZSwSUxIGsn5J"
      }
    },
    {
      "cell_type": "code",
      "source": [
        "import turtle\n",
        "import random\n",
        "\n",
        "t = turtle.Turtle()\n",
        "t.shape(\"turtle\")\n",
        "\n",
        "for j in range (1,10):\n",
        " \n",
        "\n",
        "\n",
        " \n",
        "\n",
        "\n",
        "\n",
        " \n",
        "t.up()\n",
        "x = random.randint(-200, 200)\n",
        "y = random.randint(-200, 200)\n",
        "r = random.randint(10, 200)\n",
        "t.goto(x, y)\n",
        "t.down()\n",
        "t.circle(r)\n"
      ],
      "metadata": {
        "id": "Imn13X-xs_i4"
      },
      "execution_count": null,
      "outputs": []
    },
    {
      "cell_type": "markdown",
      "source": [
        "10. 다음과 같이 거북이를 왕복달리기 시키는 프로그램을 작성하라."
      ],
      "metadata": {
        "id": "RL6lxVHRtIIU"
      }
    },
    {
      "cell_type": "code",
      "source": [
        "import turtle\n",
        "\n",
        "t = turtle.Turtle()\n",
        "t.shape(\"turtle\")\n",
        "\n",
        "for i in range(5):\n",
        "    t.forward(200);\n",
        "    t.right(90)\n",
        "    t.forward(20);\n",
        "    t.right(90)\n",
        "    t.forward(200);\n",
        "    t.left(90)\n",
        "    t.forward(20);\n",
        "    t.left(90)\n"
      ],
      "metadata": {
        "id": "eWNAcFobtQl_"
      },
      "execution_count": null,
      "outputs": []
    },
    {
      "cell_type": "markdown",
      "source": [
        "12. 다음의 터틀 그래픽을 분석하여 보자.학습하지 않은 함수가 있다면 인터넷으로 조사하여 보자."
      ],
      "metadata": {
        "id": "shUbjUTGt8Nn"
      }
    },
    {
      "cell_type": "code",
      "source": [
        "import turtle\n",
        "\n",
        "t = turtle.Turtle()\n",
        "\n",
        "t.shape(\"turtle\")\n",
        "\n",
        "t.color('red', 'yellow')\n",
        "\n",
        "t.begin_fill()\n",
        "\n",
        "while True:t.fd(200)\n",
        "\n",
        "t.lt(170)\n",
        "\n",
        "if abs(t.pos()) < 1:\n",
        "\n",
        "break\n",
        "\n",
        "t.end_fill()"
      ],
      "metadata": {
        "id": "3HI-9y5LuEFK"
      },
      "execution_count": null,
      "outputs": []
    },
    {
      "cell_type": "markdown",
      "source": [
        "12.터틀 그래픽과 반복을 사용하여 싸인을 그려보자.거북이를 싸인값에 따라 움직이면 된다."
      ],
      "metadata": {
        "id": "Ek1xXJNPuHjn"
      }
    },
    {
      "cell_type": "code",
      "source": [
        "import turtle\n",
        " import math\n",
        "\n",
        " t= turtle.Turtle()\n",
        " t.shape(\"turtle\")\n",
        " t.color('red', 'yellow')\n",
        "\n",
        " for x in range(0, 360):\n",
        "  t.goto(x,200*math.sin(x*3.14/180))\n",
        " \n",
        "\n"
      ],
      "metadata": {
        "id": "qozBzyEDuf24"
      },
      "execution_count": null,
      "outputs": []
    }
  ]
}